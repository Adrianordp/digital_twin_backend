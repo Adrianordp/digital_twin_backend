{
 "cells": [
  {
   "cell_type": "markdown",
   "id": "38e5528f",
   "metadata": {},
   "source": [
    "# Digital Twin FastAPI Backend: Interactive API Demo\n",
    "\n",
    "This notebook demonstrates how to interact with the digital twin backend using Python. It covers simulation, control, state retrieval, session-based endpoints, and basic integration testing."
   ]
  },
  {
   "cell_type": "markdown",
   "id": "39a96bf0",
   "metadata": {},
   "source": [
    "## 1. Import Required Libraries\n",
    "\n",
    "Import Python libraries such as `requests` and others needed for API interaction and data handling."
   ]
  },
  {
   "cell_type": "code",
   "execution_count": null,
   "id": "bbe00d8a",
   "metadata": {},
   "outputs": [
    {
     "ename": "",
     "evalue": "",
     "output_type": "error",
     "traceback": [
      "\u001b[1;31mRunning cells with 'digital-twin-backend-DfW18mSp-py3.13 (Python 3.13.5)' requires the ipykernel package.\n",
      "\u001b[1;31m<a href='command:jupyter.createPythonEnvAndSelectController'>Create a Python Environment</a> with the required packages.\n",
      "\u001b[1;31mOr install 'ipykernel' using the command: '/home/adriano/.cache/pypoetry/virtualenvs/digital-twin-backend-DfW18mSp-py3.13/bin/python -m pip install ipykernel -U --force-reinstall'"
     ]
    }
   ],
   "source": [
    "# Import required libraries\n",
    "import httpx\n",
    "import time\n",
    "import json\n",
    "from pprint import pprint"
   ]
  },
  {
   "cell_type": "markdown",
   "id": "dcdb89a5",
   "metadata": {},
   "source": [
    "## 2. Start FastAPI App in Notebook\n",
    "\n",
    "You can start the FastAPI app using Uvicorn in a separate terminal or subprocess. For demonstration, ensure the app is running at `http://localhost:8000` before proceeding."
   ]
  },
  {
   "cell_type": "code",
   "execution_count": null,
   "id": "c96a5a3e",
   "metadata": {},
   "outputs": [],
   "source": [
    "# Optionally, start FastAPI app using subprocess (uncomment to use)\n",
    "# import subprocess\n",
    "# uvicorn_process = subprocess.Popen([\n",
    "#     \"poetry\", \"run\", \"uvicorn\", \"app.main:app\", \"--reload\", \"--host\", \"0.0.0.0\", \"--port\", \"8000\"\n",
    "# ])\n",
    "# time.sleep(2)  # Wait for server to start\n",
    "# print(\"FastAPI app started.\")\n",
    "\n",
    "# For this demo, ensure the app is running at http://localhost:8000"
   ]
  },
  {
   "cell_type": "markdown",
   "id": "12a6a2e5",
   "metadata": {},
   "source": [
    "## 3. Interact with Simulation API Endpoints\n",
    "\n",
    "We will use the `requests` library to interact with the simulation and control endpoints."
   ]
  },
  {
   "cell_type": "code",
   "execution_count": null,
   "id": "6b9ffbe9",
   "metadata": {},
   "outputs": [],
   "source": [
    "# Define the API base URL\n",
    "API_URL = \"http://localhost:8000\"\n",
    "\n",
    "# Helper function to pretty print responses\n",
    "def print_response(response):\n",
    "    print(f\"Status code: {response.status_code}\")\n",
    "    try:\n",
    "        pprint(response.json())\n",
    "    except Exception:\n",
    "        print(response.text)\n",
    "\n",
    "# Create a reusable HTTPX client\n",
    "client = httpx.Client()"
   ]
  },
  {
   "cell_type": "markdown",
   "id": "adcb02bd",
   "metadata": {},
   "source": [
    "## 4. Simulate Water Tank System\n",
    "\n",
    "Let's create a session and step the water tank simulation."
   ]
  },
  {
   "cell_type": "code",
   "execution_count": null,
   "id": "cdc81da3",
   "metadata": {},
   "outputs": [],
   "source": [
    "# Create a session for the water tank model\n",
    "session_init_resp = client.post(f\"{API_URL}/simulate/init\", json={\"model_name\": \"water_tank\"})\n",
    "print(\"Session Init Response:\")\n",
    "print_response(session_init_resp)\n",
    "session_id = session_init_resp.json()[\"session_id\"]\n",
    "\n",
    "# Step the simulation\n",
    "step_resp = client.post(f\"{API_URL}/simulate/step\", json={\n",
    "    \"session_id\": session_id,\n",
    "    \"control_input\": 5.0,\n",
    "    \"delta_time\": 1.0\n",
    "})\n",
    "print(\"\\nStep Response:\")\n",
    "print_response(step_resp)"
   ]
  },
  {
   "cell_type": "markdown",
   "id": "63cd05e7",
   "metadata": {},
   "source": [
    "## 5. Simulate Room Temperature System\n",
    "\n",
    "Now let's create a session and step the room temperature simulation."
   ]
  },
  {
   "cell_type": "code",
   "execution_count": null,
   "id": "f3af956d",
   "metadata": {},
   "outputs": [],
   "source": [
    "# Create a session for the room temperature model\n",
    "rt_session_init_resp = client.post(f\"{API_URL}/simulate/init\", json={\"model_name\": \"room_temperature\"})\n",
    "print(\"Room Temperature Session Init Response:\")\n",
    "print_response(rt_session_init_resp)\n",
    "rt_session_id = rt_session_init_resp.json()[\"session_id\"]\n",
    "\n",
    "# Step the simulation\n",
    "rt_step_resp = client.post(f\"{API_URL}/simulate/step\", json={\n",
    "    \"session_id\": rt_session_id,\n",
    "    \"control_input\": 2.0,\n",
    "    \"delta_time\": 1.0\n",
    "})\n",
    "print(\"\\nRoom Temperature Step Response:\")\n",
    "print_response(rt_step_resp)"
   ]
  },
  {
   "cell_type": "markdown",
   "id": "870be3a9",
   "metadata": {},
   "source": [
    "## 6. Read System State\n",
    "\n",
    "Retrieve and display the current state of each system using the session-based endpoints."
   ]
  },
  {
   "cell_type": "code",
   "execution_count": null,
   "id": "3cfd8075",
   "metadata": {},
   "outputs": [],
   "source": [
    "# Get state for water tank session\n",
    "state_resp = client.get(f\"{API_URL}/simulate/state/{session_id}\")\n",
    "print(\"Water Tank State:\")\n",
    "print_response(state_resp)\n",
    "\n",
    "# Get state for room temperature session\n",
    "rt_state_resp = client.get(f\"{API_URL}/simulate/state/{rt_session_id}\")\n",
    "print(\"Room Temperature State:\")\n",
    "print_response(rt_state_resp)"
   ]
  },
  {
   "cell_type": "markdown",
   "id": "d216dad2",
   "metadata": {},
   "source": [
    "## 7. Test Session-Based Endpoints\n",
    "\n",
    "Demonstrate session-based simulation by making multiple requests and showing state persistence."
   ]
  },
  {
   "cell_type": "code",
   "execution_count": null,
   "id": "427df9aa",
   "metadata": {},
   "outputs": [],
   "source": [
    "# Step the water tank simulation multiple times and show state persistence\n",
    "for i in range(3):\n",
    "    step_resp = client.post(f\"{API_URL}/simulate/step\", json={\n",
    "        \"session_id\": session_id,\n",
    "        \"control_input\": 2.0 + i,\n",
    "        \"delta_time\": 1.0\n",
    "    })\n",
    "    print(f\"\\nStep {i+1} Response:\")\n",
    "    print_response(step_resp)\n",
    "    state_resp = client.get(f\"{API_URL}/simulate/state/{session_id}\")\n",
    "    print(f\"Water Tank State after step {i+1}:\")\n",
    "    print_response(state_resp)"
   ]
  },
  {
   "cell_type": "markdown",
   "id": "ab17a860",
   "metadata": {},
   "source": [
    "## 8. Add Logging and Monitoring Example\n",
    "\n",
    "Show how to retrieve logs for a session. (Metrics/monitoring can be added if available in the backend.)"
   ]
  },
  {
   "cell_type": "code",
   "execution_count": null,
   "id": "a55408b4",
   "metadata": {},
   "outputs": [],
   "source": [
    "# Retrieve logs for the water tank session\n",
    "logs_resp = client.get(f\"{API_URL}/simulate/logs/{session_id}\")\n",
    "print(\"Water Tank Session Logs:\")\n",
    "print_response(logs_resp)"
   ]
  },
  {
   "cell_type": "markdown",
   "id": "b176c4ea",
   "metadata": {},
   "source": [
    "## 9. API Integration Test Example\n",
    "\n",
    "Write a simple integration test in the notebook to verify endpoint responses and state changes."
   ]
  },
  {
   "cell_type": "code",
   "execution_count": null,
   "id": "dc4f1bdc",
   "metadata": {},
   "outputs": [],
   "source": [
    "# Simple integration test: create, step, and check state\n",
    "\n",
    "def integration_test():\n",
    "    # Create session\n",
    "    resp = client.post(f\"{API_URL}/simulate/init\", json={\"model_name\": \"water_tank\"})\n",
    "\n",
    "    assert resp.status_code == 200\n",
    "    \n",
    "    sid = resp.json()[\"session_id\"]\n",
    "    # Step\n",
    "    resp = client.post(f\"{API_URL}/simulate/step\", json={\n",
    "        \"session_id\": sid,\n",
    "        \"control_input\": 3.0,\n",
    "        \"delta_time\": 1.0\n",
    "    })\n",
    "    \n",
    "    assert resp.status_code == 200\n",
    "    \n",
    "    # Get state\n",
    "    resp = client.get(f\"{API_URL}/simulate/state/{sid}\")\n",
    "    \n",
    "    assert resp.status_code == 200\n",
    "    \n",
    "    state = resp.json()[\"state\"]\n",
    "    print(\"Integration test state:\", state)\n",
    "    \n",
    "    assert \"level\" in state\n",
    "\n",
    "integration_test()"
   ]
  }
 ],
 "metadata": {
  "kernelspec": {
   "display_name": "digital-twin-backend-DfW18mSp-py3.13",
   "language": "python",
   "name": "python3"
  },
  "language_info": {
   "name": "python",
   "version": "3.13.5"
  }
 },
 "nbformat": 4,
 "nbformat_minor": 5
}
